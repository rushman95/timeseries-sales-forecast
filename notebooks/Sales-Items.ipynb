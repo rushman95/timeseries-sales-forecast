{
 "cells": [
  {
   "cell_type": "code",
   "execution_count": 1,
   "metadata": {},
   "outputs": [
    {
     "name": "stderr",
     "output_type": "stream",
     "text": [
      "/Users/rush/opt/anaconda3/lib/python3.8/site-packages/scipy/__init__.py:146: UserWarning: A NumPy version >=1.16.5 and <1.23.0 is required for this version of SciPy (detected version 1.23.5\n",
      "  warnings.warn(f\"A NumPy version >={np_minversion} and <{np_maxversion}\"\n"
     ]
    }
   ],
   "source": [
    "import pandas as pd\n",
    "import joblib\n",
    "from sklearn.model_selection import train_test_split\n",
    "from sklearn.linear_model import LinearRegression\n",
    "from sklearn.metrics import mean_squared_error, r2_score, mean_absolute_percentage_error, mean_absolute_error\n",
    "from sklearn.preprocessing import OneHotEncoder\n",
    "from sklearn.compose import ColumnTransformer\n",
    "from sklearn.pipeline import Pipeline\n",
    "\n",
    "# Set display options to show all rows and columns\n",
    "pd.set_option('display.max_rows', None)  # Show all rows\n",
    "pd.set_option('display.max_columns', None)  # Show all columns"
   ]
  },
  {
   "cell_type": "code",
   "execution_count": 2,
   "metadata": {},
   "outputs": [],
   "source": [
    "calendar = pd.read_csv('calendar.csv')\n",
    "calendar_events = pd.read_csv('calendar_events.csv')\n",
    "sales_test = pd.read_csv('sales_test.csv')\n",
    "sales_train = pd.read_csv('sales_train.csv')\n",
    "items = pd.read_csv('items_weekly_sell_prices.csv')"
   ]
  },
  {
   "cell_type": "code",
   "execution_count": 18,
   "metadata": {},
   "outputs": [],
   "source": [
    "# Columns to keep as identifiers\n",
    "id_cols = ['id', 'item_id', 'dept_id', 'cat_id', 'store_id', 'state_id']\n",
    "\n",
    "def getdatefeatures(df):\n",
    "    # convert to pandas datetime and set index as date\n",
    "    df['date'] = pd.to_datetime(df['date'])\n",
    "    df.set_index('date', inplace=True)\n",
    "\n",
    "    # getting date features\n",
    "    df['year'] = df.index.year\n",
    "    df['month'] = df.index.month\n",
    "    df['day_of_week'] = df.index.dayofweek\n",
    "    df['day_of_year'] = df.index.dayofyear\n",
    "\n",
    "    return df\n",
    "\n",
    "def makedf(data):\n",
    "    \n",
    "    df = pd.melt(data, id_vars=id_cols, var_name='d', value_name='qty')\n",
    "    df = pd.merge(df, calendar, how='left', on='d')\n",
    "    df = pd.merge(df, items, how='left', on=['store_id',\t'item_id',\t'wm_yr_wk'])\n",
    "    df = pd.merge(df, calendar_events, how='left', on='date')\n",
    "    df['sell_price'].fillna(0, inplace=True)\n",
    "    df['revenue'] = df['qty'] * df['sell_price']\n",
    "\n",
    "    df = getdatefeatures(df)\n",
    "\n",
    "    return df\n",
    "\n",
    "sales_test = pd.concat([sales_train[id_cols], sales_test], axis=1)\n",
    "\n",
    "train_df = makedf(sales_train)\n",
    "test_df = makedf(sales_test)"
   ]
  },
  {
   "cell_type": "code",
   "execution_count": 20,
   "metadata": {},
   "outputs": [],
   "source": [
    "features = ['item_id', 'dept_id', 'cat_id', 'store_id', 'state_id', 'year', 'month', 'day_of_week', 'day_of_year']\n",
    "# , 'sell_price', 'qty', 'wm_yr_wk', 'event_name', 'event_type'\n",
    "\n",
    "# Select features and target\n",
    "X_train = train_df[features]\n",
    "y_train = train_df['revenue']\n",
    "X_test = test_df[features]\n",
    "y_test = test_df['revenue'] "
   ]
  },
  {
   "cell_type": "code",
   "execution_count": 10,
   "metadata": {},
   "outputs": [
    {
     "name": "stdout",
     "output_type": "stream",
     "text": [
      "Untitled-1.ipynb              items_weekly_sell_prices.csv\n",
      "calendar.csv                  sales_test.csv\n",
      "calendar_events.csv           sales_train.csv\n",
      "\u001b[34mdeployment\u001b[m\u001b[m/\n"
     ]
    }
   ],
   "source": [
    "def fitmodel(model, model_name, X_train=X_train, y_train=y_train, X_test=X_test, y_test=y_test):\n",
    "\n",
    "    # Define categorical and numeric columns for preprocessing\n",
    "    categorical_cols = ['item_id', 'dept_id', 'cat_id', 'store_id', 'state_id']\n",
    "    numeric_cols = ['year',  'month', 'day_of_week', 'day_of_year']\n",
    "\n",
    "    # Preprocessing and modeling pipeline\n",
    "    preprocessor = ColumnTransformer(\n",
    "        transformers=[\n",
    "            ('num', 'passthrough', numeric_cols), \n",
    "            ('cat', OneHotEncoder(), categorical_cols)\n",
    "        ])\n",
    "\n",
    "    pipeline = Pipeline([\n",
    "        ('preprocessor', preprocessor),\n",
    "        ('regressor', model)\n",
    "    ])\n",
    "\n",
    "    # Train the model\n",
    "    pipeline.fit(X_train, y_train)\n",
    "\n",
    "    # Make predictions on the test set\n",
    "    y_pred = pipeline.predict(X_test)\n",
    "\n",
    "    # Assuming you have a scikit-learn pipeline named 'pipeline'\n",
    "    joblib.dump(pipeline, f'{model_name}.pkl')\n",
    "\n",
    "    # Evaluate the model\n",
    "    rmse = mean_squared_error(y_test, y_pred, squared=False)\n",
    "    r2 = r2_score(y_test, y_pred)\n",
    "    mae = mean_absolute_error(y_test, y_pred)\n",
    "    mape = mean_absolute_percentage_error(y_test, y_pred)\n",
    "\n",
    "    return model_name, rmse, r2, mae, mape"
   ]
  }
 ],
 "metadata": {
  "kernelspec": {
   "display_name": "Python 3.8.8 ('base')",
   "language": "python",
   "name": "python3"
  },
  "language_info": {
   "codemirror_mode": {
    "name": "ipython",
    "version": 3
   },
   "file_extension": ".py",
   "mimetype": "text/x-python",
   "name": "python",
   "nbconvert_exporter": "python",
   "pygments_lexer": "ipython3",
   "version": "3.8.8"
  },
  "orig_nbformat": 4,
  "vscode": {
   "interpreter": {
    "hash": "0f42a8c9783fa6587c8f2ae1a5d0df9106ccf01b87fd0ee4c719236dfb69b019"
   }
  }
 },
 "nbformat": 4,
 "nbformat_minor": 2
}
